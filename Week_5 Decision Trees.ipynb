{
 "cells": [
  {
   "cell_type": "markdown",
   "metadata": {
    "id": "7ywSRtNI4s5h"
   },
   "source": [
    "# 0.) Import the US Perminent Visas using zip extractor"
   ]
  },
  {
   "cell_type": "code",
   "execution_count": 2,
   "metadata": {
    "id": "nsG1QV154GYZ"
   },
   "outputs": [],
   "source": [
    "import pandas as pd\n",
    "#from google.colab import drive\n",
    "import matplotlib.pyplot as plt\n",
    "import numpy as np"
   ]
  },
  {
   "cell_type": "code",
   "execution_count": 14,
   "metadata": {
    "colab": {
     "base_uri": "https://localhost:8080/"
    },
    "id": "Iku0T8Ou4Lcu",
    "outputId": "b41032a6-6ae6-49d2-dadd-82e2d4ec36cb"
   },
   "outputs": [
    {
     "name": "stdout",
     "output_type": "stream",
     "text": [
      "Mounted at /content/gdrive/\n"
     ]
    }
   ],
   "source": [
    "#drive.mount('/content/gdrive/', force_remount = True)"
   ]
  },
  {
   "cell_type": "code",
   "execution_count": 3,
   "metadata": {
    "colab": {
     "base_uri": "https://localhost:8080/"
    },
    "id": "Q7XmCWs_rULl",
    "outputId": "54ee6460-0257-4aae-92bb-6ba62f9a2718"
   },
   "outputs": [
    {
     "name": "stderr",
     "output_type": "stream",
     "text": [
      "/var/folders/wb/934yx_bd79jfvxjrx9p80p1m0000gn/T/ipykernel_60127/2549643881.py:4: DtypeWarning: Columns (0,1,2,3,4,5,6,7,10,11,16,17,20,21,22,25,26,27,28,29,30,31,32,33,34,35,36,37,39,40,41,42,43,44,45,47,48,49,50,51,52,53,55,56,57,58,59,60,61,63,64,65,66,68,69,70,71,72,73,74,77,79,80,81,82,83,84,85,86,87,88,89,90,91,92,93,94,95,100,101,103,104,105,106,107,108,109,110,111,112,113,114,115,116,117,118,119,120,121,122,123,124,125,126,127,128,129,130,131,132,133,134,135,136,137,138,139,140,141,142,143,144,145,146,147,148,149,150,153) have mixed types. Specify dtype option on import or set low_memory=False.\n",
      "  df = pd.read_csv(zf.open('us_perm_visas.csv'))\n"
     ]
    }
   ],
   "source": [
    "import zipfile\n",
    "\n",
    "zf = zipfile.ZipFile(\"/Users/Cade/Downloads/us_perm_visas.csv.zip\") \n",
    "df = pd.read_csv(zf.open('us_perm_visas.csv'))"
   ]
  },
  {
   "cell_type": "markdown",
   "metadata": {
    "id": "lbkpNPyN-Gnk"
   },
   "source": [
    "# 2.) Choose 4 features you think are important. Case_status is your target variable\n"
   ]
  },
  {
   "cell_type": "code",
   "execution_count": 4,
   "metadata": {
    "colab": {
     "base_uri": "https://localhost:8080/",
     "height": 386
    },
    "id": "cNu6ysyV988v",
    "outputId": "61776c7d-2acf-4f44-e12f-97301dfb2b8b"
   },
   "outputs": [
    {
     "data": {
      "text/html": [
       "<div>\n",
       "<style scoped>\n",
       "    .dataframe tbody tr th:only-of-type {\n",
       "        vertical-align: middle;\n",
       "    }\n",
       "\n",
       "    .dataframe tbody tr th {\n",
       "        vertical-align: top;\n",
       "    }\n",
       "\n",
       "    .dataframe thead th {\n",
       "        text-align: right;\n",
       "    }\n",
       "</style>\n",
       "<table border=\"1\" class=\"dataframe\">\n",
       "  <thead>\n",
       "    <tr style=\"text-align: right;\">\n",
       "      <th></th>\n",
       "      <th>add_these_pw_job_title_9089</th>\n",
       "      <th>agent_city</th>\n",
       "      <th>agent_firm_name</th>\n",
       "      <th>agent_state</th>\n",
       "      <th>application_type</th>\n",
       "      <th>case_no</th>\n",
       "      <th>case_number</th>\n",
       "      <th>case_received_date</th>\n",
       "      <th>case_status</th>\n",
       "      <th>class_of_admission</th>\n",
       "      <th>...</th>\n",
       "      <th>ri_pvt_employment_firm_to</th>\n",
       "      <th>ri_us_workers_considered</th>\n",
       "      <th>schd_a_sheepherder</th>\n",
       "      <th>us_economic_sector</th>\n",
       "      <th>wage_offer_from_9089</th>\n",
       "      <th>wage_offer_to_9089</th>\n",
       "      <th>wage_offer_unit_of_pay_9089</th>\n",
       "      <th>wage_offered_from_9089</th>\n",
       "      <th>wage_offered_to_9089</th>\n",
       "      <th>wage_offered_unit_of_pay_9089</th>\n",
       "    </tr>\n",
       "  </thead>\n",
       "  <tbody>\n",
       "    <tr>\n",
       "      <th>0</th>\n",
       "      <td>NaN</td>\n",
       "      <td>NaN</td>\n",
       "      <td>NaN</td>\n",
       "      <td>NaN</td>\n",
       "      <td>PERM</td>\n",
       "      <td>A-07323-97014</td>\n",
       "      <td>NaN</td>\n",
       "      <td>NaN</td>\n",
       "      <td>Certified</td>\n",
       "      <td>J-1</td>\n",
       "      <td>...</td>\n",
       "      <td>NaN</td>\n",
       "      <td>NaN</td>\n",
       "      <td>NaN</td>\n",
       "      <td>IT</td>\n",
       "      <td>75629.0</td>\n",
       "      <td>NaN</td>\n",
       "      <td>yr</td>\n",
       "      <td>NaN</td>\n",
       "      <td>NaN</td>\n",
       "      <td>NaN</td>\n",
       "    </tr>\n",
       "    <tr>\n",
       "      <th>1</th>\n",
       "      <td>NaN</td>\n",
       "      <td>NaN</td>\n",
       "      <td>NaN</td>\n",
       "      <td>NaN</td>\n",
       "      <td>PERM</td>\n",
       "      <td>A-07332-99439</td>\n",
       "      <td>NaN</td>\n",
       "      <td>NaN</td>\n",
       "      <td>Denied</td>\n",
       "      <td>B-2</td>\n",
       "      <td>...</td>\n",
       "      <td>NaN</td>\n",
       "      <td>NaN</td>\n",
       "      <td>NaN</td>\n",
       "      <td>Other Economic Sector</td>\n",
       "      <td>37024.0</td>\n",
       "      <td>NaN</td>\n",
       "      <td>yr</td>\n",
       "      <td>NaN</td>\n",
       "      <td>NaN</td>\n",
       "      <td>NaN</td>\n",
       "    </tr>\n",
       "    <tr>\n",
       "      <th>2</th>\n",
       "      <td>NaN</td>\n",
       "      <td>NaN</td>\n",
       "      <td>NaN</td>\n",
       "      <td>NaN</td>\n",
       "      <td>PERM</td>\n",
       "      <td>A-07333-99643</td>\n",
       "      <td>NaN</td>\n",
       "      <td>NaN</td>\n",
       "      <td>Certified</td>\n",
       "      <td>H-1B</td>\n",
       "      <td>...</td>\n",
       "      <td>NaN</td>\n",
       "      <td>NaN</td>\n",
       "      <td>NaN</td>\n",
       "      <td>Aerospace</td>\n",
       "      <td>47923.0</td>\n",
       "      <td>NaN</td>\n",
       "      <td>yr</td>\n",
       "      <td>NaN</td>\n",
       "      <td>NaN</td>\n",
       "      <td>NaN</td>\n",
       "    </tr>\n",
       "    <tr>\n",
       "      <th>3</th>\n",
       "      <td>NaN</td>\n",
       "      <td>NaN</td>\n",
       "      <td>NaN</td>\n",
       "      <td>NaN</td>\n",
       "      <td>PERM</td>\n",
       "      <td>A-07339-01930</td>\n",
       "      <td>NaN</td>\n",
       "      <td>NaN</td>\n",
       "      <td>Certified</td>\n",
       "      <td>B-2</td>\n",
       "      <td>...</td>\n",
       "      <td>NaN</td>\n",
       "      <td>NaN</td>\n",
       "      <td>NaN</td>\n",
       "      <td>Other Economic Sector</td>\n",
       "      <td>10.97</td>\n",
       "      <td>NaN</td>\n",
       "      <td>hr</td>\n",
       "      <td>NaN</td>\n",
       "      <td>NaN</td>\n",
       "      <td>NaN</td>\n",
       "    </tr>\n",
       "    <tr>\n",
       "      <th>4</th>\n",
       "      <td>NaN</td>\n",
       "      <td>NaN</td>\n",
       "      <td>NaN</td>\n",
       "      <td>NaN</td>\n",
       "      <td>PERM</td>\n",
       "      <td>A-07345-03565</td>\n",
       "      <td>NaN</td>\n",
       "      <td>NaN</td>\n",
       "      <td>Certified</td>\n",
       "      <td>L-1</td>\n",
       "      <td>...</td>\n",
       "      <td>NaN</td>\n",
       "      <td>NaN</td>\n",
       "      <td>NaN</td>\n",
       "      <td>Advanced Mfg</td>\n",
       "      <td>100000.0</td>\n",
       "      <td>NaN</td>\n",
       "      <td>yr</td>\n",
       "      <td>NaN</td>\n",
       "      <td>NaN</td>\n",
       "      <td>NaN</td>\n",
       "    </tr>\n",
       "  </tbody>\n",
       "</table>\n",
       "<p>5 rows × 154 columns</p>\n",
       "</div>"
      ],
      "text/plain": [
       "  add_these_pw_job_title_9089 agent_city agent_firm_name agent_state  \\\n",
       "0                         NaN        NaN             NaN         NaN   \n",
       "1                         NaN        NaN             NaN         NaN   \n",
       "2                         NaN        NaN             NaN         NaN   \n",
       "3                         NaN        NaN             NaN         NaN   \n",
       "4                         NaN        NaN             NaN         NaN   \n",
       "\n",
       "  application_type        case_no case_number case_received_date case_status  \\\n",
       "0             PERM  A-07323-97014         NaN                NaN   Certified   \n",
       "1             PERM  A-07332-99439         NaN                NaN      Denied   \n",
       "2             PERM  A-07333-99643         NaN                NaN   Certified   \n",
       "3             PERM  A-07339-01930         NaN                NaN   Certified   \n",
       "4             PERM  A-07345-03565         NaN                NaN   Certified   \n",
       "\n",
       "  class_of_admission  ... ri_pvt_employment_firm_to ri_us_workers_considered  \\\n",
       "0                J-1  ...                       NaN                      NaN   \n",
       "1                B-2  ...                       NaN                      NaN   \n",
       "2               H-1B  ...                       NaN                      NaN   \n",
       "3                B-2  ...                       NaN                      NaN   \n",
       "4                L-1  ...                       NaN                      NaN   \n",
       "\n",
       "  schd_a_sheepherder     us_economic_sector wage_offer_from_9089  \\\n",
       "0                NaN                     IT              75629.0   \n",
       "1                NaN  Other Economic Sector              37024.0   \n",
       "2                NaN              Aerospace              47923.0   \n",
       "3                NaN  Other Economic Sector                10.97   \n",
       "4                NaN           Advanced Mfg             100000.0   \n",
       "\n",
       "  wage_offer_to_9089 wage_offer_unit_of_pay_9089 wage_offered_from_9089  \\\n",
       "0                NaN                          yr                    NaN   \n",
       "1                NaN                          yr                    NaN   \n",
       "2                NaN                          yr                    NaN   \n",
       "3                NaN                          hr                    NaN   \n",
       "4                NaN                          yr                    NaN   \n",
       "\n",
       "  wage_offered_to_9089  wage_offered_unit_of_pay_9089  \n",
       "0                  NaN                            NaN  \n",
       "1                  NaN                            NaN  \n",
       "2                  NaN                            NaN  \n",
       "3                  NaN                            NaN  \n",
       "4                  NaN                            NaN  \n",
       "\n",
       "[5 rows x 154 columns]"
      ]
     },
     "execution_count": 4,
     "metadata": {},
     "output_type": "execute_result"
    }
   ],
   "source": [
    "df.head()"
   ]
  },
  {
   "cell_type": "code",
   "execution_count": 5,
   "metadata": {
    "colab": {
     "base_uri": "https://localhost:8080/"
    },
    "id": "ifsNzHvOlpdf",
    "outputId": "4260412f-b341-4c3e-fd9a-cd6bfe6273a9"
   },
   "outputs": [
    {
     "name": "stdout",
     "output_type": "stream",
     "text": [
      "add_these_pw_job_title_9089\n",
      "agent_city\n",
      "agent_firm_name\n",
      "agent_state\n",
      "application_type\n",
      "case_no\n",
      "case_number\n",
      "case_received_date\n",
      "case_status\n",
      "class_of_admission\n",
      "country_of_citizenship\n",
      "country_of_citzenship\n",
      "decision_date\n",
      "employer_address_1\n",
      "employer_address_2\n",
      "employer_city\n",
      "employer_country\n",
      "employer_decl_info_title\n",
      "employer_name\n",
      "employer_num_employees\n",
      "employer_phone\n",
      "employer_phone_ext\n",
      "employer_postal_code\n",
      "employer_state\n",
      "employer_yr_estab\n",
      "foreign_worker_info_alt_edu_experience\n",
      "foreign_worker_info_birth_country\n",
      "foreign_worker_info_city\n",
      "foreign_worker_info_education\n",
      "foreign_worker_info_education_other\n",
      "foreign_worker_info_inst\n",
      "foreign_worker_info_major\n",
      "foreign_worker_info_postal_code\n",
      "foreign_worker_info_rel_occup_exp\n",
      "foreign_worker_info_req_experience\n",
      "foreign_worker_info_state\n",
      "foreign_worker_info_training_comp\n",
      "foreign_worker_ownership_interest\n",
      "foreign_worker_yr_rel_edu_completed\n",
      "fw_info_alt_edu_experience\n",
      "fw_info_birth_country\n",
      "fw_info_education_other\n",
      "fw_info_postal_code\n",
      "fw_info_rel_occup_exp\n",
      "fw_info_req_experience\n",
      "fw_info_training_comp\n",
      "fw_info_yr_rel_edu_completed\n",
      "fw_ownership_interest\n",
      "ji_foreign_worker_live_on_premises\n",
      "ji_fw_live_on_premises\n",
      "ji_live_in_dom_svc_contract\n",
      "ji_live_in_domestic_service\n",
      "ji_offered_to_sec_j_foreign_worker\n",
      "ji_offered_to_sec_j_fw\n",
      "job_info_alt_cmb_ed_oth_yrs\n",
      "job_info_alt_combo_ed\n",
      "job_info_alt_combo_ed_exp\n",
      "job_info_alt_combo_ed_other\n",
      "job_info_alt_field\n",
      "job_info_alt_field_name\n",
      "job_info_alt_occ\n",
      "job_info_alt_occ_job_title\n",
      "job_info_alt_occ_num_months\n",
      "job_info_combo_occupation\n",
      "job_info_education\n",
      "job_info_education_other\n",
      "job_info_experience\n",
      "job_info_experience_num_months\n",
      "job_info_foreign_ed\n",
      "job_info_foreign_lang_req\n",
      "job_info_job_req_normal\n",
      "job_info_job_title\n",
      "job_info_major\n",
      "job_info_training\n",
      "job_info_training_field\n",
      "job_info_training_num_months\n",
      "job_info_work_city\n",
      "job_info_work_postal_code\n",
      "job_info_work_state\n",
      "naics_2007_us_code\n",
      "naics_2007_us_title\n",
      "naics_code\n",
      "naics_title\n",
      "naics_us_code\n",
      "naics_us_code_2007\n",
      "naics_us_title\n",
      "naics_us_title_2007\n",
      "orig_case_no\n",
      "orig_file_date\n",
      "preparer_info_emp_completed\n",
      "preparer_info_title\n",
      "pw_amount_9089\n",
      "pw_determ_date\n",
      "pw_expire_date\n",
      "pw_job_title_908\n",
      "pw_job_title_9089\n",
      "pw_level_9089\n",
      "pw_soc_code\n",
      "pw_soc_title\n",
      "pw_source_name_9089\n",
      "pw_source_name_other_9089\n",
      "pw_track_num\n",
      "pw_unit_of_pay_9089\n",
      "rec_info_barg_rep_notified\n",
      "recr_info_barg_rep_notified\n",
      "recr_info_coll_teach_comp_proc\n",
      "recr_info_coll_univ_teacher\n",
      "recr_info_employer_rec_payment\n",
      "recr_info_first_ad_start\n",
      "recr_info_job_fair_from\n",
      "recr_info_job_fair_to\n",
      "recr_info_on_campus_recr_from\n",
      "recr_info_on_campus_recr_to\n",
      "recr_info_pro_org_advert_from\n",
      "recr_info_pro_org_advert_to\n",
      "recr_info_prof_org_advert_from\n",
      "recr_info_prof_org_advert_to\n",
      "recr_info_professional_occ\n",
      "recr_info_radio_tv_ad_from\n",
      "recr_info_radio_tv_ad_to\n",
      "recr_info_second_ad_start\n",
      "recr_info_sunday_newspaper\n",
      "recr_info_swa_job_order_end\n",
      "recr_info_swa_job_order_start\n",
      "refile\n",
      "ri_1st_ad_newspaper_name\n",
      "ri_2nd_ad_newspaper_name\n",
      "ri_2nd_ad_newspaper_or_journal\n",
      "ri_campus_placement_from\n",
      "ri_campus_placement_to\n",
      "ri_coll_tch_basic_process\n",
      "ri_coll_teach_pro_jnl\n",
      "ri_coll_teach_select_date\n",
      "ri_employee_referral_prog_from\n",
      "ri_employee_referral_prog_to\n",
      "ri_employer_web_post_from\n",
      "ri_employer_web_post_to\n",
      "ri_job_search_website_from\n",
      "ri_job_search_website_to\n",
      "ri_layoff_in_past_six_months\n",
      "ri_local_ethnic_paper_from\n",
      "ri_local_ethnic_paper_to\n",
      "ri_posted_notice_at_worksite\n",
      "ri_pvt_employment_firm_from\n",
      "ri_pvt_employment_firm_to\n",
      "ri_us_workers_considered\n",
      "schd_a_sheepherder\n",
      "us_economic_sector\n",
      "wage_offer_from_9089\n",
      "wage_offer_to_9089\n",
      "wage_offer_unit_of_pay_9089\n",
      "wage_offered_from_9089\n",
      "wage_offered_to_9089\n",
      "wage_offered_unit_of_pay_9089\n"
     ]
    }
   ],
   "source": [
    "for i in df.columns:\n",
    "  print(i)"
   ]
  },
  {
   "cell_type": "code",
   "execution_count": 13,
   "metadata": {
    "id": "xQE60rwv98_F"
   },
   "outputs": [],
   "source": [
    "df_select = df[[\"case_status\", \"class_of_admission\", \"foreign_worker_info_education\", \"foreign_worker_info_birth_country\"]]"
   ]
  },
  {
   "cell_type": "markdown",
   "metadata": {
    "id": "bIJx2jvD-KEI"
   },
   "source": [
    "# 3.) Clean your data for a decision tree\n"
   ]
  },
  {
   "cell_type": "code",
   "execution_count": 42,
   "metadata": {
    "id": "NvwomEoaGAgN"
   },
   "outputs": [],
   "source": [
    "X = pd.get_dummies(df_select[[\"class_of_admission\", \"foreign_worker_info_education\", \"foreign_worker_info_birth_country\"]], prefix = '', prefix_sep='')\n",
    "y = df[\"case_status\"]"
   ]
  },
  {
   "cell_type": "markdown",
   "metadata": {
    "id": "PeurmqI4-OoC"
   },
   "source": [
    "# 4.) Fit and plot a decision tree of depth X\n"
   ]
  },
  {
   "cell_type": "code",
   "execution_count": 43,
   "metadata": {
    "id": "6BiA8EgJcYoY"
   },
   "outputs": [],
   "source": [
    "from sklearn import tree"
   ]
  },
  {
   "cell_type": "code",
   "execution_count": 48,
   "metadata": {
    "colab": {
     "base_uri": "https://localhost:8080/"
    },
    "id": "udwK0byx-RLA",
    "outputId": "f3a766c8-a1b3-499c-bc38-84f8776d7cce"
   },
   "outputs": [
    {
     "data": {
      "text/plain": [
       "DecisionTreeClassifier(max_depth=3)"
      ]
     },
     "execution_count": 48,
     "metadata": {},
     "output_type": "execute_result"
    }
   ],
   "source": [
    "clf = tree.DecisionTreeClassifier(max_depth = 3)\n",
    "clf.fit(X,y)"
   ]
  },
  {
   "cell_type": "code",
   "execution_count": 49,
   "metadata": {
    "colab": {
     "base_uri": "https://localhost:8080/",
     "height": 530
    },
    "id": "nHqdtuh6cSf-",
    "outputId": "237a3f34-304f-4302-989d-e0bd2810abcc"
   },
   "outputs": [
    {
     "data": {
      "text/plain": [
       "[Text(0.5, 0.875, 'H-1B <= 0.5\\ngini = 0.599\\nsamples = 374362\\nvalue = [181933, 148586, 25649, 18194]'),\n",
       " Text(0.25, 0.625, 'L-1 <= 0.5\\ngini = 0.642\\nsamples = 91344\\nvalue = [42621, 31744, 11336, 5643]'),\n",
       " Text(0.125, 0.375, 'EWI <= 0.5\\ngini = 0.66\\nsamples = 71406\\nvalue = [32675, 22948, 10777, 5006]'),\n",
       " Text(0.0625, 0.125, 'gini = 0.656\\nsamples = 69451\\nvalue = [32163, 22396, 9963, 4929]'),\n",
       " Text(0.1875, 0.125, 'gini = 0.677\\nsamples = 1955\\nvalue = [512, 552, 814, 77]'),\n",
       " Text(0.375, 0.375, 'INDIA <= 0.5\\ngini = 0.555\\nsamples = 19938\\nvalue = [9946, 8796, 559, 637]'),\n",
       " Text(0.3125, 0.125, 'gini = 0.551\\nsamples = 17032\\nvalue = [9030, 6932, 507, 563]'),\n",
       " Text(0.4375, 0.125, 'gini = 0.488\\nsamples = 2906\\nvalue = [916, 1864, 52, 74]'),\n",
       " Text(0.75, 0.625, 'INDIA <= 0.5\\ngini = 0.583\\nsamples = 283018\\nvalue = [139312, 116842, 14313, 12551]'),\n",
       " Text(0.625, 0.375, \"Bachelor's <= 0.5\\ngini = 0.583\\nsamples = 239043\\nvalue = [119778, 96100, 12513, 10652]\"),\n",
       " Text(0.5625, 0.125, 'gini = 0.59\\nsamples = 189425\\nvalue = [92837, 76650, 10818, 9120]'),\n",
       " Text(0.6875, 0.125, 'gini = 0.549\\nsamples = 49618\\nvalue = [26941, 19450, 1695, 1532]'),\n",
       " Text(0.875, 0.375, \"Master's <= 0.5\\ngini = 0.577\\nsamples = 43975\\nvalue = [19534, 20742, 1800, 1899]\"),\n",
       " Text(0.8125, 0.125, 'gini = 0.572\\nsamples = 20268\\nvalue = [8781, 9862, 802, 823]'),\n",
       " Text(0.9375, 0.125, 'gini = 0.58\\nsamples = 23707\\nvalue = [10753, 10880, 998, 1076]')]"
      ]
     },
     "execution_count": 49,
     "metadata": {},
     "output_type": "execute_result"
    },
    {
     "data": {
      "image/png": "[encoded data removed]",
      "text/plain": [
       "<Figure size 1440x576 with 1 Axes>"
      ]
     },
     "metadata": {
      "needs_background": "light"
     },
     "output_type": "display_data"
    }
   ],
   "source": [
    "plt.figure(figsize = (20,8))\n",
    "tree.plot_tree(clf,feature_names = X.columns )"
   ]
  },
  {
   "cell_type": "markdown",
   "metadata": {
    "id": "6isBwtmL-R4p"
   },
   "source": [
    "# 5.) Write your interpretation of the largest (by sample size) leaf node\n"
   ]
  },
  {
   "cell_type": "code",
   "execution_count": null,
   "metadata": {
    "id": "sgDPicU8IvPv"
   },
   "outputs": [],
   "source": [
    "#Largest leaf node is non-H1B applicants who are indian and have a bachelor's degree."
   ]
  },
  {
   "cell_type": "markdown",
   "metadata": {
    "id": "aQa3sanl-XUk"
   },
   "source": [
    "# 6.) Using a for loop, make your own train-test split and determine the best max_depth for out-of sample accuracy"
   ]
  },
  {
   "cell_type": "code",
   "execution_count": 53,
   "metadata": {},
   "outputs": [],
   "source": [
    "from sklearn.metrics import accuracy_score\n",
    "from sklearn.model_selection import train_test_split"
   ]
  },
  {
   "cell_type": "code",
   "execution_count": 56,
   "metadata": {
    "id": "9QA-y6HCslBR"
   },
   "outputs": [],
   "source": [
    "max_depths = [1,5,10]\n",
    "outputs = []\n",
    "\n",
    "X_train, X_test, y_train, y_test = train_test_split(X, y, test_size=0.3, random_state=42)\n",
    "\n",
    "for md in max_depths:\n",
    "    clf = tree.DecisionTreeClassifier(max_depth = md)\n",
    "    clf.fit(X_train,y_train)\n",
    "    y_pred = clf.predict(X_test)\n",
    "    oos_accuracy = accuracy_score(y_test, y_pred)\n",
    "    outputs.append(oos_accuracy)"
   ]
  },
  {
   "cell_type": "code",
   "execution_count": 57,
   "metadata": {
    "id": "vVaHpqf9wHj7"
   },
   "outputs": [
    {
     "data": {
      "text/plain": [
       "[0.48792171598001943, 0.4928100152258501, 0.49442164029596913]"
      ]
     },
     "execution_count": 57,
     "metadata": {},
     "output_type": "execute_result"
    }
   ],
   "source": [
    "outputs"
   ]
  },
  {
   "cell_type": "code",
   "execution_count": null,
   "metadata": {
    "id": "YphNDj12aFhP"
   },
   "outputs": [],
   "source": [
    "#Pretty small difference in accuracy with increasing max depth, but there's a subtle improvement."
   ]
  }
 ],
 "metadata": {
  "colab": {
   "provenance": []
  },
  "kernelspec": {
   "display_name": "Python 3 (ipykernel)",
   "language": "python",
   "name": "python3"
  },
  "language_info": {
   "codemirror_mode": {
    "name": "ipython",
    "version": 3
   },
   "file_extension": ".py",
   "mimetype": "text/x-python",
   "name": "python",
   "nbconvert_exporter": "python",
   "pygments_lexer": "ipython3",
   "version": "3.9.12"
  }
 },
 "nbformat": 4,
 "nbformat_minor": 1
}
